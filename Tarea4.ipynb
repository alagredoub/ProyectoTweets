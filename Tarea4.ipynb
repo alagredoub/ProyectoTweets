{
 "cells": [
  {
   "cell_type": "code",
   "execution_count": null,
   "id": "ea1da368-bf8c-47a5-bddf-cb03859d5244",
   "metadata": {
    "tags": []
   },
   "outputs": [],
   "source": [
    "\n"
   ]
  },
  {
   "cell_type": "markdown",
   "id": "6f6d3b0a-01e9-4a2f-9039-5e3dcf8370c4",
   "metadata": {},
   "source": [
    "# Clasificación de Tweets con relación a temas financieros   \n"
   ]
  },
  {
   "cell_type": "markdown",
   "id": "95278536-2b26-442c-a3b3-cfb3a30a804c",
   "metadata": {},
   "source": [
    "Asesor Principal: \n",
    "- Daniel Montegro\n",
    "\n",
    "Autores:\n",
    "- Laura Gonzalez \n",
    "- Ana Lucia Agredo\n",
    "- Edwin Cuy\n",
    "\n"
   ]
  },
  {
   "cell_type": "markdown",
   "id": "f523fbad-e4e3-41df-aa01-c3ce3c653f10",
   "metadata": {},
   "source": [
    "## Introducción\n",
    "\n",
    "Las noticias de hoy tambien suceden en las redes sociales, desde perfiles personales e institucionales (canales digitales) se hacen anuncios y declaraciones que interactúan instantáneamente con un gran número de usuarios, fenomeno que hace que su analisis se haya vuelto parte del ejercicio periodístico cotidiano.\n",
    "\n",
    "El uso de twitter ha ido aumentando exponencialmente desde su creación. Esta red social se ha convertido en una fuente de información de todo el mundo, desde noticias de ultima hora hasta opiniones personales. Se puede utilizar como herramienta de investigación de mercado, para identificar nuevas demandas y hábitos de consumo, tambien es util como fuente de información sobre lo que la gente está pensando sobre su país y sus instituciones.\n",
    "En este proyecto se propone un acercamiento a los temas economicos mas importantes en Colombia a partir del analisis de tweets en cierto periodo de tiempo."
   ]
  },
  {
   "cell_type": "markdown",
   "id": "884ec7f0-5ccb-4988-9d0a-95ee061f23eb",
   "metadata": {},
   "source": [
    "## Descripción de Problema"
   ]
  },
  {
   "cell_type": "markdown",
   "id": "9c7b71c7",
   "metadata": {},
   "source": [
    "Se requiere establecer clusters a partir de datos proporcionados por una red social (Twitter) relacionados con el área de las finanzas de tal forma que se pueda etablecer un criterio de desición o de evaluación del interés de la gente en ésta área. Todo esto haciendo uso de técnicas de baja mediana y alta complejidad para así realizar una comparación entre los diferentes algoritmos y llegar al modelo más acertado."
   ]
  },
  {
   "cell_type": "markdown",
   "id": "bc007418-018b-4f37-b7e3-1888101f8926",
   "metadata": {},
   "source": [
    "## Fuente de Datos"
   ]
  },
  {
   "cell_type": "markdown",
   "id": "7b7e6b38-3382-4ec9-b791-631bd2978864",
   "metadata": {},
   "source": [
    "Los datos serán obtenidos de twitter utilizando la interfaz de programación de aplicaciones (API), que permite\n",
    "a las personas crear software que se integre con la aplicación. En este caso se realizó la creación de un\n",
    "código en el lenguaje computacional Python que funcionará con la Standard Search API v1.1.\n",
    "\n",
    "Teniendo en cuenta los siguientes parámetros:\n",
    "\n",
    "- *q* : Consulta de búsqueda (query) codificada en URL de 500 caracteres como máximo, incluidos los operadores. Las consultas también pueden estar limitadas por la complejidad\n",
    "- *geocode* : Retorna los tweets de usuarios ubicados dentro de un radio determinado de la latitud/longitud dada. La ubicación se toma preferentemente de la API de geoetiquetado, pero recurrirá a su perfil de Twitter. El valor del par ́ametro se especifica por ”latitud, longitud, radio ”\n",
    "- *lang* : Restringe los tweets de un idioma brindado, teniendo en cuenta el código ISO 639-1\n",
    "- *since* : Retorna los tweets creados después ́es de la fecha dada YYYY-MM-DD\n",
    "- *until* : Retorna los tweets creados antes de la fecha dada YYYY-MM-DD\n",
    "- *include_entities* : Se incluyen entidades si el campo es Verdadero\n",
    "\n",
    "Para esto es necesario crear una cuenta de la Plataforma de Desarrollo de Twitter con acceso elevado y costo gratuito que brindará los códigos de autorización en este caso “Consumer Key” y “ Consumer Secret” son las credenciales fundamentales mientras el “Access Token” y “Access secret” permiten realizar acciones en nombre de otro usuario, pues estos últimos especıfican la cuenta de Twitter desde la cual se está haciendo el requerimiento."
   ]
  },
  {
   "cell_type": "markdown",
   "id": "52cb0b93-cf6f-44a7-8593-5e99594d51e9",
   "metadata": {},
   "source": [
    "## Procesamiento ETL"
   ]
  },
  {
   "cell_type": "markdown",
   "id": "455609b3-f4f2-4dde-980f-bd7f1b5b97b8",
   "metadata": {},
   "source": [
    "Preprocesamiento de Texto\n",
    "\n",
    "Este proceso consiste en transformar los textos en un formato limpio y coherente que pueda introducirse en un modelo para su posterior análisis y aprendizaje, lo anterior teniendo en cuenta que los textos provenientes del lenguaje natural no estan estructurados y presentan ruido.[6]\n",
    "\n",
    "Las técnicas de preprocesamiento de textos pueden ser generales para que sean aplicables a diferentes clases de texto o pueden ser especializadas para una tarea concreta. El tratamiento de comentarios de redes sociales es diferente al dado en documentos científicos que cuentan con fórmulas y símbolos matemáticos. Teniendo en cuenta que los pasos como la segmentación de frases, la tokenización, la corrección ortográfica y la lematización son comunes en su uso.[6]\n",
    "\n",
    "“Rompen la voz y el texto en pequeños trozos, lo reconstruyen lo analizan y lo procesan para traer\n",
    "los datos más relevantes”[7]\n",
    "\n",
    "Pipeline clásico de técnicas de NLP:\n",
    "\n",
    "A continuación, se muestran los pasos que se realizan en procesamiento del lenguaje natural que permite facilitar el análisis de datos no estructurados como en el caso de estudio.\n",
    "\n",
    "- Segmentación por Oración: En el caso de tener párrafos, es preferible proceder una oración a la vez, lo cual disminuye la complejidad y simplifica el proceso.[7]\n",
    "\n",
    "- Tokenización de Palabras: Proceso donde se rompen las frases u oraciones en unidades más pequeñas conocidas como tokens. Este es un paso fundamental porque el significado de la palabra se interpreta fácilmente mediante el análisis de las palabras en el texto.\n",
    "\n",
    "- Part of Speech: Se refiere a la identificación de los tokens como sustantivos, pronombres, verbos, adjetivos, etc. Esto permite en caso de ser necesario identificar cuáles son artículos y posteriormente realizar su eliminación.[5]\n",
    "\n",
    "- Lematización del Texto: Esto permite entender que las palabras se utilizan para los mismos conceptos cuando hay varias palabras en las frases que tienen las mismas palabras base. Por lo cual en este paso se va al nivel de la raíz para encontrar la forma base de todas las palabras disponibles.[6]\n",
    "\n",
    "- Identificación de las Stopwords: Las stop-words son aquellas palabras de uso común en un idioma por lo cual se realiza una eliminación de estas palabras que permite centrarse en aquellas que son importantes."
   ]
  },
  {
   "cell_type": "markdown",
   "id": "798ebade-d246-425c-bdb1-8cf2e8ea5455",
   "metadata": {},
   "source": [
    "## Exploración de los datos"
   ]
  },
  {
   "cell_type": "markdown",
   "id": "1ab89c90-ec60-46e7-96ea-d24ee47b8fb6",
   "metadata": {},
   "source": [
    "Se propone un análisis exploratorio de los datos a partir del preprocesamiento para verificar cuales son las\n",
    "palabras que más se repiten y se deben considerar como stopwords, de igual forma tener una primera visión\n",
    "de los mensajes relacionados con el tema:\n",
    "\n",
    "- Tokenización, identificación de los tokens más repetidos y palabras únicas\n",
    "- Representación de las palabras con mayores frecuencias por medio de un wordcloud\n",
    "- Histogramas de longitud de tweets\n",
    "- Segmentación por oración para obtener el número de frases por tweet\n",
    "- Identificación de palabras sinónimas\n",
    "- Uso del corrector ortográfico language-tool-python para estandarizar tweets y encontrar el número de errores por tweet"
   ]
  },
  {
   "cell_type": "markdown",
   "id": "326d60c4-796e-4b07-990c-bb1530531a4e",
   "metadata": {},
   "source": [
    "## Técnicas de modelación propuestas"
   ]
  },
  {
   "cell_type": "markdown",
   "id": "bbc8d84d",
   "metadata": {},
   "source": [
    "Las técnicas  utilizadas para cumplir el objetivo son básicamente 3 aumentando en el nivel de dificultad según su orden:\n",
    "\n",
    "- K-means : \n",
    "\n",
    "Este algoritmo permite crear clusters mediante las caracterísiticas de los objetivos y teniendo en cuenta un parámetro de distancia, es decir, el define que un objeto pertenece o no a cierto grupo dependiente de la distancia geometrica que exista entre el objeto y los otros objetos que lo rodean.\n",
    "- LDA:  \n",
    "\n",
    "En este algoritmo con un enfoque bayesiano basicamente trata de identificar la distribución de probabilidad conjunta de las variables del objeto y a partir de estas asignar pesos probabilisticos para cada objeto. De esta forma se conoce los objetos que son más probables que pertenezcan a cierto cluster, sin embargo a diferencia del algoritmo K-means, en este algoritmo un objeto puede pertenecer a más de un cluster, es decir, se tiene un sistema difuso. \n",
    "\n",
    "- Transformers\n",
    "\n",
    "Este modelo busca el entendimiento de lenguaje natural mediante redes neuronales en general recurrentes, este tipo de algoritmos recibe una gran cantidad de texto (al ser redes neuronales el parametro de cantidad de datos es de vital importancia para la exactitud del modelo)  y proporciona como salida una serie de vectores numéricos que caracterizan el lenguaje y lo deja mucho más manipulable.\n",
    "\n",
    " "
   ]
  },
  {
   "cell_type": "markdown",
   "id": "616536f2-b74a-41ed-87c6-526b947500ba",
   "metadata": {},
   "source": [
    "## Conocimientos requeridos para el desarrollo del proyecto\n"
   ]
  },
  {
   "cell_type": "markdown",
   "id": "b256c7cc-b5a8-47f3-91cf-3c536689632b",
   "metadata": {},
   "source": [
    "- Python: nivel intermedio\n",
    "- Modelos no supervisados\n",
    "- Procesamiento de lenguaje natural"
   ]
  },
  {
   "cell_type": "markdown",
   "id": "6288713e-5298-4d22-a7fc-347890907b4a",
   "metadata": {},
   "source": [
    "## Resultados Esperados"
   ]
  },
  {
   "cell_type": "markdown",
   "id": "7fbca22c-1d4a-45c1-a4e8-283ab48ed495",
   "metadata": {},
   "source": [
    "- Encontrar los diferentes tópicos en los tweet del momento sobre economia mediante un modelo de clusterización LDA\n",
    "- Comparar este modelo con tecnicas modernas de clusterización, transformers (Opcional)  "
   ]
  },
  {
   "cell_type": "markdown",
   "id": "b5648123-b209-4ff1-becd-c72360955457",
   "metadata": {},
   "source": [
    "## Tiempo de desarrollo del proyecto"
   ]
  },
  {
   "cell_type": "markdown",
   "id": "b5e71265-4fea-4eb4-a8b1-bfe879ec3ef3",
   "metadata": {},
   "source": [
    "6 semanas"
   ]
  },
  {
   "cell_type": "code",
   "execution_count": null,
   "id": "1f5879fb-4802-4c5f-aed9-a9bbc5c5eb68",
   "metadata": {},
   "outputs": [],
   "source": []
  }
 ],
 "metadata": {
  "kernelspec": {
   "display_name": "Python 3 (ipykernel)",
   "language": "python",
   "name": "python3"
  },
  "language_info": {
   "codemirror_mode": {
    "name": "ipython",
    "version": 3
   },
   "file_extension": ".py",
   "mimetype": "text/x-python",
   "name": "python",
   "nbconvert_exporter": "python",
   "pygments_lexer": "ipython3",
   "version": "3.11.0"
  }
 },
 "nbformat": 4,
 "nbformat_minor": 5
}
