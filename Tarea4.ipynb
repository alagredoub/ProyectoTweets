{
 "cells": [
  {
   "cell_type": "code",
   "execution_count": 1,
   "id": "ea1da368-bf8c-47a5-bddf-cb03859d5244",
   "metadata": {},
   "outputs": [
    {
     "ename": "SyntaxError",
     "evalue": "unmatched ')' (4197262314.py, line 24)",
     "output_type": "error",
     "traceback": [
      "\u001b[0;36m  Cell \u001b[0;32mIn [1], line 24\u001b[0;36m\u001b[0m\n\u001b[0;31m    Recuerden que ETL significa Extracción, Transformación y Carga de datos). Describen como se hará todo el proeprocesmaiento de información.\u001b[0m\n\u001b[0m                                                                           ^\u001b[0m\n\u001b[0;31mSyntaxError\u001b[0m\u001b[0;31m:\u001b[0m unmatched ')'\n"
     ]
    }
   ],
   "source": [
    "\n",
    "\n",
    "Reporte No. 1. Propuesta del proyecto\n",
    "\n",
    "Asesor principal: Profesor convenido a ser su asesor principal, si ya lo tienen.\n",
    "\n",
    "Autor@s\n",
    "-\n",
    "-\n",
    "\n",
    "Introducción\n",
    "-\n",
    "-\n",
    "\n",
    "Descripción del problema\n",
    "-\n",
    "-\n",
    "\n",
    "Fuentes de datos\n",
    "-\n",
    "-\n",
    "\n",
    "Procesamiento ETL\n",
    "Recuerden que ETL significa Extracción, Transformación y Carga de datos). Describen como se hará todo el proeprocesmaiento de información.  \n",
    "-\n",
    "-\n",
    "\n",
    "Exploración de los datos\n",
    "Indicar que técnicas usaran inicialmente para describir y entender sus datos:\n",
    " Muestras de los datos\n",
    "Estadisticas y grafica univariadas\n",
    "Técnicas factoriales: ACP, ...\n",
    "\n",
    "Técnicas de modelación propuestas\n",
    "Se espera que hayan sido discutidas con algún asesor (profesor) previamente.\n",
    "\n",
    "\n",
    "Conocimientos requeridos para el desarrollo del proyecto\n",
    "Se espera que se hayan discutido previamente con el asesor \n",
    "- Bases de datos relacionales y no relacionales\n",
    "- SQL\n",
    "- Python : nivel\n",
    "- R, nivel\n",
    "- Modelos supervisados: explicativos o predictivos\n",
    "- Modelos no supervisados\n",
    "- Modelos de lenguaje natural\n",
    "-\n",
    "\n",
    "Resultados esperados\n",
    "-\n",
    "-\n",
    "\n",
    "\n",
    "Tiempo de desarrollo esperado\n",
    "No puede ser mayor a 6 semanas."
   ]
  },
  {
   "cell_type": "markdown",
   "id": "6f6d3b0a-01e9-4a2f-9039-5e3dcf8370c4",
   "metadata": {},
   "source": [
    "# Clasificación de Tweets con relación a temas financieros   \n"
   ]
  },
  {
   "cell_type": "markdown",
   "id": "95278536-2b26-442c-a3b3-cfb3a30a804c",
   "metadata": {},
   "source": [
    "Asesor Principal: Daniel Montegro\n",
    "\n",
    "Autores:\n",
    "- Laura Gonzalez \n",
    "- Ana Lucia Agredo\n",
    "- Edwin Cuy\n",
    "\n"
   ]
  },
  {
   "cell_type": "markdown",
   "id": "f523fbad-e4e3-41df-aa01-c3ce3c653f10",
   "metadata": {},
   "source": [
    "## Introduccion"
   ]
  },
  {
   "cell_type": "markdown",
   "id": "884ec7f0-5ccb-4988-9d0a-95ee061f23eb",
   "metadata": {},
   "source": [
    "## Descripción de Problema"
   ]
  },
  {
   "cell_type": "markdown",
   "id": "bc007418-018b-4f37-b7e3-1888101f8926",
   "metadata": {},
   "source": [
    "## Fuente de Datos"
   ]
  },
  {
   "cell_type": "markdown",
   "id": "7b7e6b38-3382-4ec9-b791-631bd2978864",
   "metadata": {},
   "source": [
    "Los datos seran obtenidos de tweeter utilizando la interfaz de programación de aplicaciones (API), que permite\n",
    "a las personas crear software que se integre con la aplicacion. En este caso se realizo la creacion de un \n",
    "codigo en el lenguaje computacional Python que funcionara con la Standard Search API v1.1.\n",
    "\n",
    "Teniendo en cuenta los siguientes parámetros:\n",
    "\n",
    "- *q* : Consulta de b ́usqueda (query) codificada en URL de 500 caracteres como m ́aximo, incluidos los operadores. Las consultas tambi ́en pueden estar limitadas por la complejidad \n",
    "- *geocode* : Retorna los tweets de usuarios ubicados dentro de un radio determinado de la latitud/longitud dada. La ubicacion se toma preferentemente de la API de geoetiquetado, pero recurrira a su perfil de Twitter. El valor del par ́ametro se especifica por ”latitud, longitud, radio ”\n",
    "- *lang* : Restringe los tweets de un idioma brindado, teniendo en cuenta el codigo ISO 639-1\n",
    "- *since* : Retorna los tweets creados despu ́es de la fecha dada YYYY-MM-DD\n",
    "- *until* : Retorna los tweets creados antes de la fecha dada YYYY-MM-DD\n",
    "- *include_entities* : Se incluyen entidades si el campo es Verdadero\n",
    "\n",
    "Para esto es necesario crear una cuenta de la Plataforma de Desarrollo de Twitter con acceso elevado y costo gratuito que brindara los codigos de autorizacion en este caso “Consumer Key” y “ Consumer Secret” son las credenciales fundamentales mientras el “Access Token” y “Access secret” permiten realizar acciones en nombre de otro usuario, pues estos  ́ultimos especıfican la cuenta de Twitter desde la cual se esta haciendo el requerimiento."
   ]
  },
  {
   "cell_type": "markdown",
   "id": "52cb0b93-cf6f-44a7-8593-5e99594d51e9",
   "metadata": {},
   "source": [
    "## Procesamiento ETL"
   ]
  },
  {
   "cell_type": "markdown",
   "id": "455609b3-f4f2-4dde-980f-bd7f1b5b97b8",
   "metadata": {},
   "source": [
    "Preprocesamiento de Texto\n",
    "\n",
    "Este proceso consiste en transformar los textos en un formato limpio y coherente que pueda introducirse en un modelo para su posterior an ́alisis y aprendizaje, lo anterior teniendo en cuenta que los textos provenientes del lenguaje natural no est ́an estructurados y presentan ruido.[6]\n",
    "\n",
    "Las técnicas de preprocesamiento de textos pueden ser generales para que sean aplicables a diferentes clases de texto o pueden ser especializadas para una tarea concreta. El tratamiento de comentarios de redes sociales es diferente al dado en documentos cientıficos que cuentan con fórmulas y símbolos matemáticos. Teniendo en cuenta que los pasos como la segmentaci ́on de frases, la tokenizacion, la correccion ortografica y la lemmatizaci ́on son comunes en su uso.[6]\n",
    "\n",
    "“Rompen la voz y el texto en pequenos trozos, lo reconstruyen lo analizan y lo procesan para traer\n",
    "los datos m ́as relevantes”[7]\n",
    "\n",
    "Pipeline clasico de tecnicas de NLP:\n",
    "\n",
    "A continuacion, se muestran los pasos que se realizan en procesamiento del lenguaje natural que permite facilitar el an ́alisis de datos no estructurados como en el caso de estudio.\n",
    "\n",
    "- Segmentacion por Oración: En el caso de tener parrafos, es preferible proceder una oracion a la vez, lo cual disminuye la complejidad y simplifica el proceso.[7]\n",
    "\n",
    "- Tokenizacion de Palabras: Proceso donde se rompen las frases u oraciones en unidades mas peque ̃nas conocidas como tokens. Este es un paso fundamental porque el significado de la palabra se interpreta f ́acilmente mediante el an ́alisis de las palabras en el texto.\n",
    "\n",
    "- Part of Speech: Se refiere a la identificaci ́on de los tokens comosustantivos, pronombres, verbos, adjetivos, etc. Esto permite en caso de ser necesario identificar cu ́ales son art ́ıculos y posteriormente realizar su eliminaci ́on.[5]\n",
    "\n",
    "- Lemmatizacion del Texto: Esto permite entender que las palabras se utilizan para los mismos conceptos cuando hay varias palabras en las frases que tienen las mismas palabras base. Por lo cual en este paso se va al nivel de la ra ́ız para encontrar la forma base de todas las palabras disponibles.[6]\n",
    "\n",
    "- Identificaci ́on de las Stop-words: Las stop-words son aquellas palabras de uso com ́un en un idioma por lo cual se realiza una eliminaci ́on de estas palabras que permite centrarse en aquellas que son importantes.\n"
   ]
  },
  {
   "cell_type": "markdown",
   "id": "798ebade-d246-425c-bdb1-8cf2e8ea5455",
   "metadata": {},
   "source": [
    "## Exploración de los datos"
   ]
  },
  {
   "cell_type": "markdown",
   "id": "1ab89c90-ec60-46e7-96ea-d24ee47b8fb6",
   "metadata": {},
   "source": [
    "Se propone un analisis exploratorio delos datos a partir del prerpocesamiento para verificar cuales son las\n",
    "palabras que m ́as se repiten y se deben considerar como stop-words,de igual forma tener una primera vision\n",
    "de los mensajes relacionados con el tema.\n",
    "\n",
    "- tokenizacion, identificación de los tokens mas repetidos\n",
    "- lematizacion,\n",
    "- representacion de las palabras con mayores frecuencias\n"
   ]
  },
  {
   "cell_type": "markdown",
   "id": "326d60c4-796e-4b07-990c-bb1530531a4e",
   "metadata": {},
   "source": [
    "## Técnicas de modelación propuestas"
   ]
  },
  {
   "cell_type": "markdown",
   "id": "616536f2-b74a-41ed-87c6-526b947500ba",
   "metadata": {},
   "source": [
    "## Conocimientos requeridos para el desarrollo del proyecto\n"
   ]
  },
  {
   "cell_type": "markdown",
   "id": "b256c7cc-b5a8-47f3-91cf-3c536689632b",
   "metadata": {},
   "source": [
    "- Python: nivel intermedio\n",
    "- Modelos no supervisados\n",
    "- Procesamiento de lenguaje natural"
   ]
  },
  {
   "cell_type": "markdown",
   "id": "6288713e-5298-4d22-a7fc-347890907b4a",
   "metadata": {},
   "source": [
    "## Resultados Esperados"
   ]
  },
  {
   "cell_type": "markdown",
   "id": "7fbca22c-1d4a-45c1-a4e8-283ab48ed495",
   "metadata": {},
   "source": [
    "Modelo de clusterización para encontrar los diferentes tópicos en los tweet del momento sobre economia"
   ]
  },
  {
   "cell_type": "markdown",
   "id": "b5648123-b209-4ff1-becd-c72360955457",
   "metadata": {},
   "source": [
    "## Tiempo de desarrollo del proyecto"
   ]
  },
  {
   "cell_type": "markdown",
   "id": "b5e71265-4fea-4eb4-a8b1-bfe879ec3ef3",
   "metadata": {},
   "source": [
    "6 semanas"
   ]
  },
  {
   "cell_type": "code",
   "execution_count": null,
   "id": "1f5879fb-4802-4c5f-aed9-a9bbc5c5eb68",
   "metadata": {},
   "outputs": [],
   "source": []
  }
 ],
 "metadata": {
  "kernelspec": {
   "display_name": "Python 3 (ipykernel)",
   "language": "python",
   "name": "python3"
  },
  "language_info": {
   "codemirror_mode": {
    "name": "ipython",
    "version": 3
   },
   "file_extension": ".py",
   "mimetype": "text/x-python",
   "name": "python",
   "nbconvert_exporter": "python",
   "pygments_lexer": "ipython3",
   "version": "3.11.0"
  }
 },
 "nbformat": 4,
 "nbformat_minor": 5
}
